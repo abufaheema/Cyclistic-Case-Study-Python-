{
 "cells": [
  {
   "cell_type": "code",
   "execution_count": 2,
   "id": "b39e401b",
   "metadata": {
    "ExecuteTime": {
     "end_time": "2024-07-18T09:38:30.362845Z",
     "start_time": "2024-07-18T09:38:30.355853Z"
    }
   },
   "outputs": [],
   "source": [
    "# importing the libraries\n",
    "\n",
    "import numpy as np\n",
    "import pandas as pd\n",
    "import matplotlib.pyplot as plt\n",
    "%matplotlib inline\n",
    "import seaborn as sns\n",
    "import plotly.express as px"
   ]
  },
  {
   "cell_type": "code",
   "execution_count": 4,
   "id": "90a344d6",
   "metadata": {
    "ExecuteTime": {
     "end_time": "2024-07-18T09:39:19.908320Z",
     "start_time": "2024-07-18T09:38:44.987234Z"
    }
   },
   "outputs": [],
   "source": [
    "# importing the dataset\n",
    "april_21 = pd.read_csv('202104-divvy-tripdata.csv')\n",
    "may_21 = pd.read_csv('202105-divvy-tripdata.csv')\n",
    "june_21 = pd.read_csv('202106-divvy-tripdata.csv')\n",
    "july_21 = pd.read_csv('202107-divvy-tripdata.csv')\n",
    "august_21 = pd.read_csv('202108-divvy-tripdata.csv')\n",
    "september_21 = pd.read_csv('202109-divvy-tripdata.csv')\n",
    "october_21 = pd.read_csv('202110-divvy-tripdata.csv')\n",
    "november_21 = pd.read_csv('202111-divvy-tripdata.csv')\n",
    "december_21 = pd.read_csv('202112-divvy-tripdata.csv')\n",
    "january_22 = pd.read_csv('202201-divvy-tripdata.csv')\n",
    "febuary_22 = pd.read_csv('202202-divvy-tripdata.csv')\n",
    "march_22 = pd.read_csv('202203-divvy-tripdata.csv')"
   ]
  },
  {
   "cell_type": "code",
   "execution_count": 5,
   "id": "1f6bd42e",
   "metadata": {
    "ExecuteTime": {
     "end_time": "2024-07-18T09:39:21.234454Z",
     "start_time": "2024-07-18T09:39:19.913327Z"
    }
   },
   "outputs": [
    {
     "data": {
      "text/html": [
       "<div>\n",
       "<style scoped>\n",
       "    .dataframe tbody tr th:only-of-type {\n",
       "        vertical-align: middle;\n",
       "    }\n",
       "\n",
       "    .dataframe tbody tr th {\n",
       "        vertical-align: top;\n",
       "    }\n",
       "\n",
       "    .dataframe thead th {\n",
       "        text-align: right;\n",
       "    }\n",
       "</style>\n",
       "<table border=\"1\" class=\"dataframe\">\n",
       "  <thead>\n",
       "    <tr style=\"text-align: right;\">\n",
       "      <th></th>\n",
       "      <th>ride_id</th>\n",
       "      <th>rideable_type</th>\n",
       "      <th>started_at</th>\n",
       "      <th>ended_at</th>\n",
       "      <th>start_station_name</th>\n",
       "      <th>start_station_id</th>\n",
       "      <th>end_station_name</th>\n",
       "      <th>end_station_id</th>\n",
       "      <th>start_lat</th>\n",
       "      <th>start_lng</th>\n",
       "      <th>end_lat</th>\n",
       "      <th>end_lng</th>\n",
       "      <th>member_casual</th>\n",
       "    </tr>\n",
       "  </thead>\n",
       "  <tbody>\n",
       "    <tr>\n",
       "      <th>0</th>\n",
       "      <td>6C992BD37A98A63F</td>\n",
       "      <td>classic_bike</td>\n",
       "      <td>2021-04-12 18:25:36</td>\n",
       "      <td>2021-04-12 18:56:55</td>\n",
       "      <td>State St &amp; Pearson St</td>\n",
       "      <td>TA1307000061</td>\n",
       "      <td>Southport Ave &amp; Waveland Ave</td>\n",
       "      <td>13235</td>\n",
       "      <td>41.897448</td>\n",
       "      <td>-87.628722</td>\n",
       "      <td>41.948150</td>\n",
       "      <td>-87.663940</td>\n",
       "      <td>member</td>\n",
       "    </tr>\n",
       "    <tr>\n",
       "      <th>1</th>\n",
       "      <td>1E0145613A209000</td>\n",
       "      <td>docked_bike</td>\n",
       "      <td>2021-04-27 17:27:11</td>\n",
       "      <td>2021-04-27 18:31:29</td>\n",
       "      <td>Dorchester Ave &amp; 49th St</td>\n",
       "      <td>KA1503000069</td>\n",
       "      <td>Dorchester Ave &amp; 49th St</td>\n",
       "      <td>KA1503000069</td>\n",
       "      <td>41.805772</td>\n",
       "      <td>-87.592464</td>\n",
       "      <td>41.805772</td>\n",
       "      <td>-87.592464</td>\n",
       "      <td>casual</td>\n",
       "    </tr>\n",
       "    <tr>\n",
       "      <th>2</th>\n",
       "      <td>E498E15508A80BAD</td>\n",
       "      <td>docked_bike</td>\n",
       "      <td>2021-04-03 12:42:45</td>\n",
       "      <td>2021-04-07 11:40:24</td>\n",
       "      <td>Loomis Blvd &amp; 84th St</td>\n",
       "      <td>20121</td>\n",
       "      <td>Loomis Blvd &amp; 84th St</td>\n",
       "      <td>20121</td>\n",
       "      <td>41.741487</td>\n",
       "      <td>-87.658410</td>\n",
       "      <td>41.741487</td>\n",
       "      <td>-87.658410</td>\n",
       "      <td>casual</td>\n",
       "    </tr>\n",
       "  </tbody>\n",
       "</table>\n",
       "</div>"
      ],
      "text/plain": [
       "            ride_id rideable_type           started_at             ended_at  \\\n",
       "0  6C992BD37A98A63F  classic_bike  2021-04-12 18:25:36  2021-04-12 18:56:55   \n",
       "1  1E0145613A209000   docked_bike  2021-04-27 17:27:11  2021-04-27 18:31:29   \n",
       "2  E498E15508A80BAD   docked_bike  2021-04-03 12:42:45  2021-04-07 11:40:24   \n",
       "\n",
       "         start_station_name start_station_id              end_station_name  \\\n",
       "0     State St & Pearson St     TA1307000061  Southport Ave & Waveland Ave   \n",
       "1  Dorchester Ave & 49th St     KA1503000069      Dorchester Ave & 49th St   \n",
       "2     Loomis Blvd & 84th St            20121         Loomis Blvd & 84th St   \n",
       "\n",
       "  end_station_id  start_lat  start_lng    end_lat    end_lng member_casual  \n",
       "0          13235  41.897448 -87.628722  41.948150 -87.663940        member  \n",
       "1   KA1503000069  41.805772 -87.592464  41.805772 -87.592464        casual  \n",
       "2          20121  41.741487 -87.658410  41.741487 -87.658410        casual  "
      ]
     },
     "execution_count": 5,
     "metadata": {},
     "output_type": "execute_result"
    }
   ],
   "source": [
    "# combining the dataset \n",
    "df= pd.concat([april_21,may_21,june_21,july_21,august_21,september_21,october_21,november_21,december_21,january_22,\n",
    "              febuary_22,march_22])\n",
    "\n",
    "df.head(3)"
   ]
  },
  {
   "cell_type": "markdown",
   "id": "573fe141",
   "metadata": {},
   "source": [
    "# overall information about the dataset"
   ]
  },
  {
   "cell_type": "code",
   "execution_count": 6,
   "id": "6c2ae553",
   "metadata": {
    "ExecuteTime": {
     "end_time": "2024-07-18T09:39:21.264411Z",
     "start_time": "2024-07-18T09:39:21.245469Z"
    }
   },
   "outputs": [
    {
     "data": {
      "text/plain": [
       "(5723532, 13)"
      ]
     },
     "execution_count": 6,
     "metadata": {},
     "output_type": "execute_result"
    }
   ],
   "source": [
    "# checking the shape of the dataset\n",
    "\n",
    "df.shape"
   ]
  },
  {
   "cell_type": "code",
   "execution_count": 7,
   "id": "d1ac70e4",
   "metadata": {
    "ExecuteTime": {
     "end_time": "2024-07-18T09:39:24.947529Z",
     "start_time": "2024-07-18T09:39:21.275425Z"
    }
   },
   "outputs": [
    {
     "name": "stdout",
     "output_type": "stream",
     "text": [
      "<class 'pandas.core.frame.DataFrame'>\n",
      "Index: 5723532 entries, 0 to 284041\n",
      "Data columns (total 13 columns):\n",
      " #   Column              Dtype  \n",
      "---  ------              -----  \n",
      " 0   ride_id             object \n",
      " 1   rideable_type       object \n",
      " 2   started_at          object \n",
      " 3   ended_at            object \n",
      " 4   start_station_name  object \n",
      " 5   start_station_id    object \n",
      " 6   end_station_name    object \n",
      " 7   end_station_id      object \n",
      " 8   start_lat           float64\n",
      " 9   start_lng           float64\n",
      " 10  end_lat             float64\n",
      " 11  end_lng             float64\n",
      " 12  member_casual       object \n",
      "dtypes: float64(4), object(9)\n",
      "memory usage: 611.3+ MB\n"
     ]
    }
   ],
   "source": [
    "# checking the information about the dataset\n",
    "\n",
    "df.info()"
   ]
  },
  {
   "cell_type": "markdown",
   "id": "6d8c4fe2",
   "metadata": {},
   "source": [
    "# Data Cleaning"
   ]
  },
  {
   "cell_type": "code",
   "execution_count": 8,
   "id": "bec1b0c4",
   "metadata": {
    "ExecuteTime": {
     "end_time": "2024-07-18T09:39:50.520820Z",
     "start_time": "2024-07-18T09:39:24.964559Z"
    }
   },
   "outputs": [
    {
     "data": {
      "text/plain": [
       "0"
      ]
     },
     "execution_count": 8,
     "metadata": {},
     "output_type": "execute_result"
    }
   ],
   "source": [
    "# checking for the duplicate in the dataset\n",
    "df.duplicated().sum()"
   ]
  },
  {
   "cell_type": "code",
   "execution_count": 9,
   "id": "ca720c7c",
   "metadata": {
    "ExecuteTime": {
     "end_time": "2024-07-18T09:39:52.953876Z",
     "start_time": "2024-07-18T09:39:50.523804Z"
    }
   },
   "outputs": [
    {
     "data": {
      "text/plain": [
       "ride_id                    0\n",
       "rideable_type              0\n",
       "started_at                 0\n",
       "ended_at                   0\n",
       "start_station_name    745376\n",
       "start_station_id      745373\n",
       "end_station_name      796247\n",
       "end_station_id        796247\n",
       "start_lat                  0\n",
       "start_lng                  0\n",
       "end_lat                 4716\n",
       "end_lng                 4716\n",
       "member_casual              0\n",
       "dtype: int64"
      ]
     },
     "execution_count": 9,
     "metadata": {},
     "output_type": "execute_result"
    }
   ],
   "source": [
    "# checking for the null value in the dataset\n",
    "df.isna().sum()"
   ]
  },
  {
   "cell_type": "code",
   "execution_count": 10,
   "id": "1522243e",
   "metadata": {
    "ExecuteTime": {
     "end_time": "2024-07-18T09:39:55.132083Z",
     "start_time": "2024-07-18T09:39:52.967911Z"
    }
   },
   "outputs": [
    {
     "name": "stdout",
     "output_type": "stream",
     "text": [
      "The percentage of the missing values is: 13.91 %\n"
     ]
    }
   ],
   "source": [
    "# Calculating the percentage of null values\n",
    "print('The percentage of the missing values is:' , round((df.isna().sum().max() * 100) /df['ride_id'].count(),2),'%' )"
   ]
  },
  {
   "cell_type": "markdown",
   "id": "cdb6c1f1",
   "metadata": {},
   "source": [
    "13% of the data is missing, just counting the columns where there is the highest number of null values. 13% is a big deal and by that measure, our analysis could be considered bias. However, this columns contain information about the name, and id of the station where the ride began and ended. Although of some value, it is not critical information for our analysis. That's why I decide to keep these missing values, since we are not going to use these variables, instead of deleting the rows containing those missing values, which could endanger the analysis"
   ]
  },
  {
   "cell_type": "markdown",
   "id": "039f21de",
   "metadata": {},
   "source": [
    "# Formating Columns"
   ]
  },
  {
   "cell_type": "code",
   "execution_count": 11,
   "id": "a5ee3897",
   "metadata": {
    "ExecuteTime": {
     "end_time": "2024-07-18T09:39:55.176028Z",
     "start_time": "2024-07-18T09:39:55.147119Z"
    }
   },
   "outputs": [
    {
     "name": "stdout",
     "output_type": "stream",
     "text": [
      "<class 'pandas.core.frame.DataFrame'>\n",
      "Index: 5723532 entries, 0 to 284041\n",
      "Data columns (total 13 columns):\n",
      " #   Column              Dtype  \n",
      "---  ------              -----  \n",
      " 0   ride_id             object \n",
      " 1   rideable_type       object \n",
      " 2   started_at          object \n",
      " 3   ended_at            object \n",
      " 4   start_station_name  object \n",
      " 5   start_station_id    object \n",
      " 6   end_station_name    object \n",
      " 7   end_station_id      object \n",
      " 8   start_lat           float64\n",
      " 9   start_lng           float64\n",
      " 10  end_lat             float64\n",
      " 11  end_lng             float64\n",
      " 12  member_casual       object \n",
      "dtypes: float64(4), object(9)\n",
      "memory usage: 611.3+ MB\n"
     ]
    }
   ],
   "source": [
    "# checking if the datatype align with the desired  format for each column\n",
    "df.info()"
   ]
  },
  {
   "cell_type": "code",
   "execution_count": 12,
   "id": "ea203f53",
   "metadata": {
    "ExecuteTime": {
     "end_time": "2024-07-18T09:40:07.448699Z",
     "start_time": "2024-07-18T09:39:55.182043Z"
    }
   },
   "outputs": [],
   "source": [
    "# converting the column 'started_at' & 'ended_at' from object datatype to datetime\n",
    "df['started_at']= pd.to_datetime(df['started_at'])\n",
    "df['ended_at']= pd.to_datetime(df['ended_at'])"
   ]
  },
  {
   "cell_type": "code",
   "execution_count": 13,
   "id": "882a863d",
   "metadata": {
    "ExecuteTime": {
     "end_time": "2024-07-18T09:40:07.477810Z",
     "start_time": "2024-07-18T09:40:07.456696Z"
    }
   },
   "outputs": [
    {
     "name": "stdout",
     "output_type": "stream",
     "text": [
      "<class 'pandas.core.frame.DataFrame'>\n",
      "Index: 5723532 entries, 0 to 284041\n",
      "Data columns (total 13 columns):\n",
      " #   Column              Dtype         \n",
      "---  ------              -----         \n",
      " 0   ride_id             object        \n",
      " 1   rideable_type       object        \n",
      " 2   started_at          datetime64[ns]\n",
      " 3   ended_at            datetime64[ns]\n",
      " 4   start_station_name  object        \n",
      " 5   start_station_id    object        \n",
      " 6   end_station_name    object        \n",
      " 7   end_station_id      object        \n",
      " 8   start_lat           float64       \n",
      " 9   start_lng           float64       \n",
      " 10  end_lat             float64       \n",
      " 11  end_lng             float64       \n",
      " 12  member_casual       object        \n",
      "dtypes: datetime64[ns](2), float64(4), object(7)\n",
      "memory usage: 611.3+ MB\n"
     ]
    }
   ],
   "source": [
    "df.info()"
   ]
  },
  {
   "cell_type": "markdown",
   "id": "b46821b2",
   "metadata": {},
   "source": [
    "Deleting wrong entities"
   ]
  },
  {
   "cell_type": "markdown",
   "id": "3c3d5888",
   "metadata": {},
   "source": [
    "Now checking if there are not false date that are wrongly recorded"
   ]
  },
  {
   "cell_type": "code",
   "execution_count": 14,
   "id": "2462b1e9",
   "metadata": {
    "ExecuteTime": {
     "end_time": "2024-07-18T09:40:08.369687Z",
     "start_time": "2024-07-18T09:40:07.481827Z"
    }
   },
   "outputs": [
    {
     "data": {
      "text/plain": [
       "(145, 13)"
      ]
     },
     "execution_count": 14,
     "metadata": {},
     "output_type": "execute_result"
    }
   ],
   "source": [
    "false_dates= df.loc[(df['started_at'] > df['ended_at'])]\n",
    "false_dates.shape"
   ]
  },
  {
   "cell_type": "markdown",
   "id": "89e65230",
   "metadata": {},
   "source": [
    "There are 145 wrong entries where the 'started_at' column has a datetime value lower than the correspondent 'ended_at' value. This is not possible since the start of the trip hast to be an earlier date and time than the end of the trip"
   ]
  },
  {
   "cell_type": "code",
   "execution_count": 15,
   "id": "9738c500",
   "metadata": {
    "ExecuteTime": {
     "end_time": "2024-07-18T09:40:16.443124Z",
     "start_time": "2024-07-18T09:40:08.373700Z"
    }
   },
   "outputs": [],
   "source": [
    "# deleting the wrong entities\n",
    "df = df.drop(false_dates.index.to_list()).copy()"
   ]
  },
  {
   "cell_type": "markdown",
   "id": "503e2906",
   "metadata": {},
   "source": [
    "Adding columns. I will add some columns, like the length of the ride, the day of the week, the hour of the day, and the name of the month to use them later at the analysis phase"
   ]
  },
  {
   "cell_type": "code",
   "execution_count": 16,
   "id": "f6e4a727",
   "metadata": {
    "ExecuteTime": {
     "end_time": "2024-07-18T09:40:24.629873Z",
     "start_time": "2024-07-18T09:40:16.669695Z"
    }
   },
   "outputs": [],
   "source": [
    "df['ride_length_min'] = ((df['ended_at'] - df['started_at'])/pd.Timedelta(minutes=1)).astype('int32')"
   ]
  },
  {
   "cell_type": "code",
   "execution_count": 17,
   "id": "b8fbfbe8",
   "metadata": {
    "ExecuteTime": {
     "end_time": "2024-07-18T09:40:29.740055Z",
     "start_time": "2024-07-18T09:40:24.953044Z"
    }
   },
   "outputs": [],
   "source": [
    "# creating the name of the day of the week\n",
    "\n",
    "df['day'] = df['started_at'].dt.day_name()\n",
    "\n",
    "# creating the hour of the day\n",
    "\n",
    "df['hour'] = df['started_at'].dt.hour\n",
    "\n",
    "# creating the month column\n",
    "\n",
    "df['month'] = df['started_at'].dt.month\n",
    "\n",
    "# creating day of week\n",
    "df['day_of_week'] = df['started_at'].dt.dayofweek"
   ]
  },
  {
   "cell_type": "markdown",
   "id": "e93a7c50",
   "metadata": {},
   "source": [
    "With the recently column created, we sort the values in ascending order"
   ]
  },
  {
   "cell_type": "code",
   "execution_count": 18,
   "id": "572ef88e",
   "metadata": {
    "ExecuteTime": {
     "end_time": "2024-07-18T09:41:03.106808Z",
     "start_time": "2024-07-18T09:40:56.865489Z"
    }
   },
   "outputs": [
    {
     "data": {
      "text/html": [
       "<div>\n",
       "<style scoped>\n",
       "    .dataframe tbody tr th:only-of-type {\n",
       "        vertical-align: middle;\n",
       "    }\n",
       "\n",
       "    .dataframe tbody tr th {\n",
       "        vertical-align: top;\n",
       "    }\n",
       "\n",
       "    .dataframe thead th {\n",
       "        text-align: right;\n",
       "    }\n",
       "</style>\n",
       "<table border=\"1\" class=\"dataframe\">\n",
       "  <thead>\n",
       "    <tr style=\"text-align: right;\">\n",
       "      <th></th>\n",
       "      <th>ride_id</th>\n",
       "      <th>rideable_type</th>\n",
       "      <th>started_at</th>\n",
       "      <th>ended_at</th>\n",
       "      <th>start_station_name</th>\n",
       "      <th>start_station_id</th>\n",
       "      <th>end_station_name</th>\n",
       "      <th>end_station_id</th>\n",
       "      <th>start_lat</th>\n",
       "      <th>start_lng</th>\n",
       "      <th>end_lat</th>\n",
       "      <th>end_lng</th>\n",
       "      <th>member_casual</th>\n",
       "      <th>ride_length_min</th>\n",
       "      <th>day</th>\n",
       "      <th>hour</th>\n",
       "      <th>month</th>\n",
       "      <th>day_of_week</th>\n",
       "    </tr>\n",
       "  </thead>\n",
       "  <tbody>\n",
       "    <tr>\n",
       "      <th>298935</th>\n",
       "      <td>109E1D34D9F9E595</td>\n",
       "      <td>electric_bike</td>\n",
       "      <td>2021-11-10 18:34:28</td>\n",
       "      <td>2021-11-10 18:34:40</td>\n",
       "      <td>Rush St &amp; Cedar St</td>\n",
       "      <td>KA1504000133</td>\n",
       "      <td>NaN</td>\n",
       "      <td>NaN</td>\n",
       "      <td>41.902464</td>\n",
       "      <td>-87.627802</td>\n",
       "      <td>41.900000</td>\n",
       "      <td>-87.630000</td>\n",
       "      <td>member</td>\n",
       "      <td>0</td>\n",
       "      <td>Wednesday</td>\n",
       "      <td>18</td>\n",
       "      <td>11</td>\n",
       "      <td>2</td>\n",
       "    </tr>\n",
       "    <tr>\n",
       "      <th>547654</th>\n",
       "      <td>44133F3A381849A9</td>\n",
       "      <td>electric_bike</td>\n",
       "      <td>2021-10-27 08:02:58</td>\n",
       "      <td>2021-10-27 08:03:00</td>\n",
       "      <td>St. Clair St &amp; Erie St</td>\n",
       "      <td>13016</td>\n",
       "      <td>St. Clair St &amp; Erie St</td>\n",
       "      <td>13016</td>\n",
       "      <td>41.894194</td>\n",
       "      <td>-87.622822</td>\n",
       "      <td>41.894208</td>\n",
       "      <td>-87.622864</td>\n",
       "      <td>casual</td>\n",
       "      <td>0</td>\n",
       "      <td>Wednesday</td>\n",
       "      <td>8</td>\n",
       "      <td>10</td>\n",
       "      <td>2</td>\n",
       "    </tr>\n",
       "    <tr>\n",
       "      <th>296317</th>\n",
       "      <td>80198B33C8BE45AB</td>\n",
       "      <td>electric_bike</td>\n",
       "      <td>2021-10-22 17:58:48</td>\n",
       "      <td>2021-10-22 17:59:12</td>\n",
       "      <td>Racine Ave &amp; Fullerton Ave</td>\n",
       "      <td>TA1306000026</td>\n",
       "      <td>Racine Ave &amp; Fullerton Ave</td>\n",
       "      <td>TA1306000026</td>\n",
       "      <td>41.925635</td>\n",
       "      <td>-87.658281</td>\n",
       "      <td>41.925636</td>\n",
       "      <td>-87.658291</td>\n",
       "      <td>member</td>\n",
       "      <td>0</td>\n",
       "      <td>Friday</td>\n",
       "      <td>17</td>\n",
       "      <td>10</td>\n",
       "      <td>4</td>\n",
       "    </tr>\n",
       "    <tr>\n",
       "      <th>547651</th>\n",
       "      <td>BB6EDF79EE465D8F</td>\n",
       "      <td>electric_bike</td>\n",
       "      <td>2021-10-30 18:43:21</td>\n",
       "      <td>2021-10-30 18:43:25</td>\n",
       "      <td>St. Clair St &amp; Erie St</td>\n",
       "      <td>13016</td>\n",
       "      <td>St. Clair St &amp; Erie St</td>\n",
       "      <td>13016</td>\n",
       "      <td>41.894314</td>\n",
       "      <td>-87.622590</td>\n",
       "      <td>41.894326</td>\n",
       "      <td>-87.622597</td>\n",
       "      <td>member</td>\n",
       "      <td>0</td>\n",
       "      <td>Saturday</td>\n",
       "      <td>18</td>\n",
       "      <td>10</td>\n",
       "      <td>5</td>\n",
       "    </tr>\n",
       "  </tbody>\n",
       "</table>\n",
       "</div>"
      ],
      "text/plain": [
       "                 ride_id  rideable_type          started_at  \\\n",
       "298935  109E1D34D9F9E595  electric_bike 2021-11-10 18:34:28   \n",
       "547654  44133F3A381849A9  electric_bike 2021-10-27 08:02:58   \n",
       "296317  80198B33C8BE45AB  electric_bike 2021-10-22 17:58:48   \n",
       "547651  BB6EDF79EE465D8F  electric_bike 2021-10-30 18:43:21   \n",
       "\n",
       "                  ended_at          start_station_name start_station_id  \\\n",
       "298935 2021-11-10 18:34:40          Rush St & Cedar St     KA1504000133   \n",
       "547654 2021-10-27 08:03:00      St. Clair St & Erie St            13016   \n",
       "296317 2021-10-22 17:59:12  Racine Ave & Fullerton Ave     TA1306000026   \n",
       "547651 2021-10-30 18:43:25      St. Clair St & Erie St            13016   \n",
       "\n",
       "                  end_station_name end_station_id  start_lat  start_lng  \\\n",
       "298935                         NaN            NaN  41.902464 -87.627802   \n",
       "547654      St. Clair St & Erie St          13016  41.894194 -87.622822   \n",
       "296317  Racine Ave & Fullerton Ave   TA1306000026  41.925635 -87.658281   \n",
       "547651      St. Clair St & Erie St          13016  41.894314 -87.622590   \n",
       "\n",
       "          end_lat    end_lng member_casual  ride_length_min        day  hour  \\\n",
       "298935  41.900000 -87.630000        member                0  Wednesday    18   \n",
       "547654  41.894208 -87.622864        casual                0  Wednesday     8   \n",
       "296317  41.925636 -87.658291        member                0     Friday    17   \n",
       "547651  41.894326 -87.622597        member                0   Saturday    18   \n",
       "\n",
       "        month  day_of_week  \n",
       "298935     11            2  \n",
       "547654     10            2  \n",
       "296317     10            4  \n",
       "547651     10            5  "
      ]
     },
     "execution_count": 18,
     "metadata": {},
     "output_type": "execute_result"
    }
   ],
   "source": [
    "df.sort_values(by='ride_length_min', ascending=True).head(4)"
   ]
  },
  {
   "cell_type": "markdown",
   "id": "47917070",
   "metadata": {},
   "source": [
    "We see there are entries in which the rides lasted less than 1 minute. We'll check what percentage of the data represent this instance."
   ]
  },
  {
   "cell_type": "code",
   "execution_count": 19,
   "id": "b110414a",
   "metadata": {
    "ExecuteTime": {
     "end_time": "2024-07-18T09:41:04.696693Z",
     "start_time": "2024-07-18T09:41:03.113822Z"
    }
   },
   "outputs": [
    {
     "name": "stdout",
     "output_type": "stream",
     "text": [
      "The percentage is : 1.5590461216427505\n"
     ]
    }
   ],
   "source": [
    "print('The percentage is :',df[df['ride_length_min']== 0].shape[0]/df['ride_id'].count() * 100)"
   ]
  },
  {
   "cell_type": "markdown",
   "id": "a90c6777",
   "metadata": {},
   "source": [
    "With just a 1% percent, we can delete the rows which have less than 1 minute in ride length"
   ]
  },
  {
   "cell_type": "code",
   "execution_count": 20,
   "id": "63a0bfcf",
   "metadata": {
    "ExecuteTime": {
     "end_time": "2024-07-18T09:41:54.172465Z",
     "start_time": "2024-07-18T09:41:32.294873Z"
    }
   },
   "outputs": [],
   "source": [
    "zero_length = (df['ride_length_min'] < 1)\n",
    "zero_length_index = df.loc[zero_length].index.to_list()\n",
    "df = df.drop(axis=0,index=zero_length_index, inplace=False)"
   ]
  },
  {
   "cell_type": "code",
   "execution_count": 21,
   "id": "d7e60068",
   "metadata": {
    "ExecuteTime": {
     "end_time": "2024-07-18T09:41:55.025938Z",
     "start_time": "2024-07-18T09:41:54.177476Z"
    }
   },
   "outputs": [
    {
     "data": {
      "text/html": [
       "<div>\n",
       "<style scoped>\n",
       "    .dataframe tbody tr th:only-of-type {\n",
       "        vertical-align: middle;\n",
       "    }\n",
       "\n",
       "    .dataframe tbody tr th {\n",
       "        vertical-align: top;\n",
       "    }\n",
       "\n",
       "    .dataframe thead th {\n",
       "        text-align: right;\n",
       "    }\n",
       "</style>\n",
       "<table border=\"1\" class=\"dataframe\">\n",
       "  <thead>\n",
       "    <tr style=\"text-align: right;\">\n",
       "      <th></th>\n",
       "      <th>ride_id</th>\n",
       "      <th>rideable_type</th>\n",
       "      <th>started_at</th>\n",
       "      <th>ended_at</th>\n",
       "      <th>start_station_name</th>\n",
       "      <th>start_station_id</th>\n",
       "      <th>end_station_name</th>\n",
       "      <th>end_station_id</th>\n",
       "      <th>start_lat</th>\n",
       "      <th>start_lng</th>\n",
       "      <th>end_lat</th>\n",
       "      <th>end_lng</th>\n",
       "      <th>member_casual</th>\n",
       "      <th>ride_length_min</th>\n",
       "      <th>day</th>\n",
       "      <th>hour</th>\n",
       "      <th>month</th>\n",
       "      <th>day_of_week</th>\n",
       "    </tr>\n",
       "  </thead>\n",
       "  <tbody>\n",
       "  </tbody>\n",
       "</table>\n",
       "</div>"
      ],
      "text/plain": [
       "Empty DataFrame\n",
       "Columns: [ride_id, rideable_type, started_at, ended_at, start_station_name, start_station_id, end_station_name, end_station_id, start_lat, start_lng, end_lat, end_lng, member_casual, ride_length_min, day, hour, month, day_of_week]\n",
       "Index: []"
      ]
     },
     "execution_count": 21,
     "metadata": {},
     "output_type": "execute_result"
    }
   ],
   "source": [
    "df[df['ride_length_min']==0]"
   ]
  },
  {
   "cell_type": "markdown",
   "id": "66a78478",
   "metadata": {},
   "source": [
    "# Analysis"
   ]
  },
  {
   "cell_type": "markdown",
   "id": "7a0060bb",
   "metadata": {},
   "source": [
    "I will perform some explanatory and statistical analysis to the dataset, i need to understand the business question between the member and casual users"
   ]
  },
  {
   "cell_type": "code",
   "execution_count": 22,
   "id": "1fa12f43",
   "metadata": {
    "ExecuteTime": {
     "end_time": "2024-07-18T09:44:30.886647Z",
     "start_time": "2024-07-18T09:44:26.690069Z"
    }
   },
   "outputs": [
    {
     "data": {
      "text/html": [
       "<div>\n",
       "<style scoped>\n",
       "    .dataframe tbody tr th:only-of-type {\n",
       "        vertical-align: middle;\n",
       "    }\n",
       "\n",
       "    .dataframe tbody tr th {\n",
       "        vertical-align: top;\n",
       "    }\n",
       "\n",
       "    .dataframe thead th {\n",
       "        text-align: right;\n",
       "    }\n",
       "</style>\n",
       "<table border=\"1\" class=\"dataframe\">\n",
       "  <thead>\n",
       "    <tr style=\"text-align: right;\">\n",
       "      <th></th>\n",
       "      <th>start_lat</th>\n",
       "      <th>start_lng</th>\n",
       "      <th>end_lat</th>\n",
       "      <th>end_lng</th>\n",
       "      <th>ride_length_min</th>\n",
       "      <th>hour</th>\n",
       "      <th>month</th>\n",
       "      <th>day_of_week</th>\n",
       "    </tr>\n",
       "  </thead>\n",
       "  <tbody>\n",
       "    <tr>\n",
       "      <th>count</th>\n",
       "      <td>5033885.00</td>\n",
       "      <td>5033885.00</td>\n",
       "      <td>5029606.00</td>\n",
       "      <td>5029606.00</td>\n",
       "      <td>5033885.00</td>\n",
       "      <td>5033885.00</td>\n",
       "      <td>5033885.00</td>\n",
       "      <td>5033885.00</td>\n",
       "    </tr>\n",
       "    <tr>\n",
       "      <th>mean</th>\n",
       "      <td>41.90</td>\n",
       "      <td>-87.65</td>\n",
       "      <td>41.90</td>\n",
       "      <td>-87.65</td>\n",
       "      <td>21.45</td>\n",
       "      <td>14.23</td>\n",
       "      <td>7.33</td>\n",
       "      <td>3.16</td>\n",
       "    </tr>\n",
       "    <tr>\n",
       "      <th>min</th>\n",
       "      <td>41.64</td>\n",
       "      <td>-87.84</td>\n",
       "      <td>41.39</td>\n",
       "      <td>-88.97</td>\n",
       "      <td>1.00</td>\n",
       "      <td>0.00</td>\n",
       "      <td>1.00</td>\n",
       "      <td>0.00</td>\n",
       "    </tr>\n",
       "    <tr>\n",
       "      <th>25%</th>\n",
       "      <td>41.88</td>\n",
       "      <td>-87.66</td>\n",
       "      <td>41.88</td>\n",
       "      <td>-87.66</td>\n",
       "      <td>6.00</td>\n",
       "      <td>11.00</td>\n",
       "      <td>6.00</td>\n",
       "      <td>1.00</td>\n",
       "    </tr>\n",
       "    <tr>\n",
       "      <th>50%</th>\n",
       "      <td>41.90</td>\n",
       "      <td>-87.64</td>\n",
       "      <td>41.90</td>\n",
       "      <td>-87.64</td>\n",
       "      <td>11.00</td>\n",
       "      <td>15.00</td>\n",
       "      <td>7.00</td>\n",
       "      <td>3.00</td>\n",
       "    </tr>\n",
       "    <tr>\n",
       "      <th>75%</th>\n",
       "      <td>41.93</td>\n",
       "      <td>-87.63</td>\n",
       "      <td>41.93</td>\n",
       "      <td>-87.63</td>\n",
       "      <td>21.00</td>\n",
       "      <td>18.00</td>\n",
       "      <td>9.00</td>\n",
       "      <td>5.00</td>\n",
       "    </tr>\n",
       "    <tr>\n",
       "      <th>max</th>\n",
       "      <td>42.07</td>\n",
       "      <td>-87.52</td>\n",
       "      <td>42.15</td>\n",
       "      <td>-87.49</td>\n",
       "      <td>55944.00</td>\n",
       "      <td>23.00</td>\n",
       "      <td>12.00</td>\n",
       "      <td>6.00</td>\n",
       "    </tr>\n",
       "    <tr>\n",
       "      <th>std</th>\n",
       "      <td>0.05</td>\n",
       "      <td>0.03</td>\n",
       "      <td>0.05</td>\n",
       "      <td>0.03</td>\n",
       "      <td>179.18</td>\n",
       "      <td>5.06</td>\n",
       "      <td>2.54</td>\n",
       "      <td>2.00</td>\n",
       "    </tr>\n",
       "  </tbody>\n",
       "</table>\n",
       "</div>"
      ],
      "text/plain": [
       "        start_lat   start_lng     end_lat     end_lng  ride_length_min  \\\n",
       "count  5033885.00  5033885.00  5029606.00  5029606.00       5033885.00   \n",
       "mean        41.90      -87.65       41.90      -87.65            21.45   \n",
       "min         41.64      -87.84       41.39      -88.97             1.00   \n",
       "25%         41.88      -87.66       41.88      -87.66             6.00   \n",
       "50%         41.90      -87.64       41.90      -87.64            11.00   \n",
       "75%         41.93      -87.63       41.93      -87.63            21.00   \n",
       "max         42.07      -87.52       42.15      -87.49         55944.00   \n",
       "std          0.05        0.03        0.05        0.03           179.18   \n",
       "\n",
       "             hour       month  day_of_week  \n",
       "count  5033885.00  5033885.00   5033885.00  \n",
       "mean        14.23        7.33         3.16  \n",
       "min          0.00        1.00         0.00  \n",
       "25%         11.00        6.00         1.00  \n",
       "50%         15.00        7.00         3.00  \n",
       "75%         18.00        9.00         5.00  \n",
       "max         23.00       12.00         6.00  \n",
       "std          5.06        2.54         2.00  "
      ]
     },
     "execution_count": 22,
     "metadata": {},
     "output_type": "execute_result"
    }
   ],
   "source": [
    "# taking a quick look at the numerical data \n",
    "\n",
    "round(df.describe(),2).drop(axis=1, columns=(['started_at','ended_at']))"
   ]
  },
  {
   "cell_type": "markdown",
   "id": "24263cc0",
   "metadata": {},
   "source": [
    "The interesting part is the ride_length_min variable. I see that the max value is way higher than the 75 percentile, meaning that this could be an outlier, and here could be more."
   ]
  },
  {
   "cell_type": "code",
   "execution_count": 23,
   "id": "05041d9a",
   "metadata": {
    "ExecuteTime": {
     "end_time": "2024-07-18T09:45:04.771938Z",
     "start_time": "2024-07-18T09:45:04.389037Z"
    }
   },
   "outputs": [
    {
     "data": {
      "text/html": [
       "<div>\n",
       "<style scoped>\n",
       "    .dataframe tbody tr th:only-of-type {\n",
       "        vertical-align: middle;\n",
       "    }\n",
       "\n",
       "    .dataframe tbody tr th {\n",
       "        vertical-align: top;\n",
       "    }\n",
       "\n",
       "    .dataframe thead th {\n",
       "        text-align: right;\n",
       "    }\n",
       "</style>\n",
       "<table border=\"1\" class=\"dataframe\">\n",
       "  <thead>\n",
       "    <tr style=\"text-align: right;\">\n",
       "      <th></th>\n",
       "      <th>member_casual</th>\n",
       "      <th>count</th>\n",
       "    </tr>\n",
       "  </thead>\n",
       "  <tbody>\n",
       "    <tr>\n",
       "      <th>0</th>\n",
       "      <td>member</td>\n",
       "      <td>2779130</td>\n",
       "    </tr>\n",
       "    <tr>\n",
       "      <th>1</th>\n",
       "      <td>casual</td>\n",
       "      <td>2254755</td>\n",
       "    </tr>\n",
       "  </tbody>\n",
       "</table>\n",
       "</div>"
      ],
      "text/plain": [
       "  member_casual    count\n",
       "0        member  2779130\n",
       "1        casual  2254755"
      ]
     },
     "execution_count": 23,
     "metadata": {},
     "output_type": "execute_result"
    }
   ],
   "source": [
    "# Count member users and casual users\n",
    "df['member_casual'].value_counts().reset_index()"
   ]
  },
  {
   "cell_type": "code",
   "execution_count": 24,
   "id": "d02e9f8b",
   "metadata": {
    "ExecuteTime": {
     "end_time": "2024-07-18T09:45:17.996161Z",
     "start_time": "2024-07-18T09:45:17.620659Z"
    }
   },
   "outputs": [
    {
     "data": {
      "text/html": [
       "<div>\n",
       "<style scoped>\n",
       "    .dataframe tbody tr th:only-of-type {\n",
       "        vertical-align: middle;\n",
       "    }\n",
       "\n",
       "    .dataframe tbody tr th {\n",
       "        vertical-align: top;\n",
       "    }\n",
       "\n",
       "    .dataframe thead th {\n",
       "        text-align: right;\n",
       "    }\n",
       "</style>\n",
       "<table border=\"1\" class=\"dataframe\">\n",
       "  <thead>\n",
       "    <tr style=\"text-align: right;\">\n",
       "      <th></th>\n",
       "      <th>rideable_type</th>\n",
       "      <th>count</th>\n",
       "    </tr>\n",
       "  </thead>\n",
       "  <tbody>\n",
       "    <tr>\n",
       "      <th>0</th>\n",
       "      <td>classic_bike</td>\n",
       "      <td>2861129</td>\n",
       "    </tr>\n",
       "    <tr>\n",
       "      <th>1</th>\n",
       "      <td>electric_bike</td>\n",
       "      <td>1902466</td>\n",
       "    </tr>\n",
       "    <tr>\n",
       "      <th>2</th>\n",
       "      <td>docked_bike</td>\n",
       "      <td>270290</td>\n",
       "    </tr>\n",
       "  </tbody>\n",
       "</table>\n",
       "</div>"
      ],
      "text/plain": [
       "   rideable_type    count\n",
       "0   classic_bike  2861129\n",
       "1  electric_bike  1902466\n",
       "2    docked_bike   270290"
      ]
     },
     "execution_count": 24,
     "metadata": {},
     "output_type": "execute_result"
    }
   ],
   "source": [
    "# Count of rideable types\n",
    "\n",
    "df['rideable_type'].value_counts().reset_index()"
   ]
  },
  {
   "cell_type": "code",
   "execution_count": 25,
   "id": "af7e53c3",
   "metadata": {
    "ExecuteTime": {
     "end_time": "2024-07-18T09:45:38.481653Z",
     "start_time": "2024-07-18T09:45:38.476396Z"
    }
   },
   "outputs": [],
   "source": [
    "# Grouping by type of user\n",
    "\n",
    "user_grp = df.groupby('member_casual')\n",
    "\n",
    "# Grouping by type of rideable\n",
    "\n",
    "ride_grp =df.groupby('rideable_type')"
   ]
  },
  {
   "cell_type": "code",
   "execution_count": 26,
   "id": "9e013836",
   "metadata": {
    "ExecuteTime": {
     "end_time": "2024-07-18T09:45:54.087556Z",
     "start_time": "2024-07-18T09:45:52.946926Z"
    }
   },
   "outputs": [
    {
     "name": "stdout",
     "output_type": "stream",
     "text": [
      "max ride length by user group:\n",
      "\n",
      "member_casual\n",
      "casual    55944\n",
      "member     1559\n",
      "Name: ride_length_min, dtype: int32\n",
      "\n",
      "max ride length by rideable type:\n",
      "rideable_type\n",
      "classic_bike      1559\n",
      "docked_bike      55944\n",
      "electric_bike      487\n",
      "Name: ride_length_min, dtype: int32\n"
     ]
    }
   ],
   "source": [
    "# Max ride length by user grp\n",
    "print('max ride length by user group:')\n",
    "print()\n",
    "print(user_grp['ride_length_min'].max())\n",
    "\n",
    "print()\n",
    "print('max ride length by rideable type:')\n",
    "print(ride_grp['ride_length_min'].max())"
   ]
  },
  {
   "cell_type": "markdown",
   "id": "7cf077d4",
   "metadata": {},
   "source": [
    "We can see that the max for casual users, and specifically the one for docked bike is so big, making the math, 55944 is about 932 hours, I wonder if anyone is capable of riding a bike for that many hours"
   ]
  },
  {
   "cell_type": "markdown",
   "id": "1bebefc9",
   "metadata": {},
   "source": [
    "That's clearly an outlier, but what about for the other type of bikes and users?"
   ]
  },
  {
   "cell_type": "code",
   "execution_count": 27,
   "id": "320cb803",
   "metadata": {
    "ExecuteTime": {
     "end_time": "2024-07-18T09:46:39.751217Z",
     "start_time": "2024-07-18T09:46:38.642207Z"
    }
   },
   "outputs": [
    {
     "data": {
      "text/plain": [
       "member_casual  rideable_type\n",
       "casual         classic_bike      1559\n",
       "               docked_bike      55944\n",
       "               electric_bike      487\n",
       "member         classic_bike      1559\n",
       "               electric_bike      480\n",
       "Name: ride_length_min, dtype: int32"
      ]
     },
     "execution_count": 27,
     "metadata": {},
     "output_type": "execute_result"
    }
   ],
   "source": [
    "df.groupby(['member_casual','rideable_type'])['ride_length_min'].max()"
   ]
  },
  {
   "cell_type": "markdown",
   "id": "b9746f89",
   "metadata": {},
   "source": [
    "The maximum time for classic bike in both kind of users is 1599 which is about 26 hours, more than a day!. clearly an outlier if it's not someone doing a marathon."
   ]
  },
  {
   "cell_type": "markdown",
   "id": "63652168",
   "metadata": {},
   "source": [
    "And the maximum time for electric bike is 480, which translates to 8 hours"
   ]
  },
  {
   "cell_type": "code",
   "execution_count": 28,
   "id": "60fc0520",
   "metadata": {
    "ExecuteTime": {
     "end_time": "2024-07-18T09:49:50.185855Z",
     "start_time": "2024-07-18T09:49:49.892233Z"
    }
   },
   "outputs": [
    {
     "data": {
      "text/plain": [
       "member_casual\n",
       "casual    31.701661\n",
       "member    13.130528\n",
       "Name: ride_length_min, dtype: float64"
      ]
     },
     "execution_count": 28,
     "metadata": {},
     "output_type": "execute_result"
    }
   ],
   "source": [
    "# Average ride length by user group\n",
    "user_grp['ride_length_min'].mean()"
   ]
  },
  {
   "cell_type": "code",
   "execution_count": 29,
   "id": "9ca0483e",
   "metadata": {
    "ExecuteTime": {
     "end_time": "2024-07-18T09:50:03.663704Z",
     "start_time": "2024-07-18T09:50:03.270255Z"
    }
   },
   "outputs": [
    {
     "data": {
      "text/plain": [
       "member_casual\n",
       "casual    16.0\n",
       "member     9.0\n",
       "Name: ride_length_min, dtype: float64"
      ]
     },
     "execution_count": 29,
     "metadata": {},
     "output_type": "execute_result"
    }
   ],
   "source": [
    "# Median ride length by user group\n",
    "user_grp['ride_length_min'].median()"
   ]
  },
  {
   "cell_type": "code",
   "execution_count": 30,
   "id": "679f8385",
   "metadata": {
    "ExecuteTime": {
     "end_time": "2024-07-18T09:50:17.073131Z",
     "start_time": "2024-07-18T09:50:16.984740Z"
    }
   },
   "outputs": [
    {
     "data": {
      "text/plain": [
       "rideable_type\n",
       "classic_bike     19.576177\n",
       "docked_bike      82.961090\n",
       "electric_bike    15.525850\n",
       "Name: ride_length_min, dtype: float64"
      ]
     },
     "execution_count": 30,
     "metadata": {},
     "output_type": "execute_result"
    }
   ],
   "source": [
    "# Average ride length by rideable type\n",
    "ride_grp['ride_length_min'].mean()"
   ]
  },
  {
   "cell_type": "code",
   "execution_count": 31,
   "id": "51316426",
   "metadata": {
    "ExecuteTime": {
     "end_time": "2024-07-18T09:50:29.809561Z",
     "start_time": "2024-07-18T09:50:29.619692Z"
    }
   },
   "outputs": [
    {
     "data": {
      "text/plain": [
       "rideable_type\n",
       "classic_bike     12.0\n",
       "docked_bike      28.0\n",
       "electric_bike    10.0\n",
       "Name: ride_length_min, dtype: float64"
      ]
     },
     "execution_count": 31,
     "metadata": {},
     "output_type": "execute_result"
    }
   ],
   "source": [
    "# Median ride length by rideable type\n",
    "\n",
    "ride_grp['ride_length_min'].median()"
   ]
  },
  {
   "cell_type": "code",
   "execution_count": 32,
   "id": "d34d3368",
   "metadata": {
    "ExecuteTime": {
     "end_time": "2024-07-18T09:50:50.515760Z",
     "start_time": "2024-07-18T09:50:49.023096Z"
    }
   },
   "outputs": [
    {
     "data": {
      "text/plain": [
       "0    4\n",
       "Name: ride_length_min, dtype: int32"
      ]
     },
     "execution_count": 32,
     "metadata": {},
     "output_type": "execute_result"
    }
   ],
   "source": [
    "df.query('member_casual == \"member\"')['ride_length_min'].mode()"
   ]
  },
  {
   "cell_type": "code",
   "execution_count": 33,
   "id": "90b05e0b",
   "metadata": {
    "ExecuteTime": {
     "end_time": "2024-07-18T09:51:27.166896Z",
     "start_time": "2024-07-18T09:51:27.103128Z"
    }
   },
   "outputs": [],
   "source": [
    "yellow = '#e1f26b'\n",
    "blue = '#4594a4'\n",
    "green = '#9ccc84'\n",
    "gray = '#d3e6ea'\n",
    "lblue ='#9ccbd4'\n",
    "white = '#FFFFFF'\n"
   ]
  },
  {
   "cell_type": "code",
   "execution_count": 34,
   "id": "149139a8",
   "metadata": {
    "ExecuteTime": {
     "end_time": "2024-07-18T09:52:36.003029Z",
     "start_time": "2024-07-18T09:52:00.725048Z"
    }
   },
   "outputs": [
    {
     "data": {
      "image/png": "[encoded data removed]",
      "text/plain": [
       "<Figure size 1200x500 with 3 Axes>"
      ]
     },
     "metadata": {},
     "output_type": "display_data"
    }
   ],
   "source": [
    "fig, ax = plt.subplots(nrows=1,ncols=3,figsize=(12,5),sharex=False)\n",
    "\n",
    "plt.subplot(1,3,1)\n",
    "ax1 = sns.boxplot(data=df,x='rideable_type',y='ride_length_min')\n",
    "ax1.set_title('Ride length distribution per rideable type')\n",
    "\n",
    "# Filtering out the docked_bike value\n",
    "no_docked_bike = df.query('rideable_type != \"docked_bike\"')\n",
    "\n",
    "plt.subplot(1,3,2)\n",
    "ax2 = sns.boxplot(data = no_docked_bike, x='rideable_type', y='ride_length_min')\n",
    "ax2.set_title('Ride length distribution without docked bike')\n",
    "\n",
    "# Filtering our the 1% of values\n",
    "percent_99 = np.percentile(df['ride_length_min'],99)\n",
    "df_99 = df.loc[(df['ride_length_min'] <= percent_99)]\n",
    "\n",
    "plt.subplot(1,3,3)\n",
    "ax3 = sns.boxplot(data=df_99,x='rideable_type',y='ride_length_min')\n",
    "ax3.set_title('Ride length distribution 99%')\n",
    "\n",
    "\n",
    "plt.tight_layout()\n",
    "plt.show()"
   ]
  },
  {
   "cell_type": "markdown",
   "id": "eacba008",
   "metadata": {},
   "source": [
    "Ride length per weekday\n",
    "Let's see what is the difference between users in terms of ride length per day"
   ]
  },
  {
   "cell_type": "code",
   "execution_count": 113,
   "id": "86c045db",
   "metadata": {
    "ExecuteTime": {
     "end_time": "2024-07-18T17:16:37.994019Z",
     "start_time": "2024-07-18T17:16:35.379399Z"
    }
   },
   "outputs": [
    {
     "data": {
      "application/vnd.plotly.v1+json": {
       "config": {
        "plotlyServerURL": "https://plot.ly"
       },
       "data": [
        {
         "hovertemplate": "member_casual=casual<br>day=%{x}<br>ride_length_min=%{y}<extra></extra>",
         "legendgroup": "casual",
         "line": {
          "color": "#636efa",
          "dash": "solid"
         },
         "marker": {
          "symbol": "circle"
         },
         "mode": "lines",
         "name": "casual",
         "orientation": "v",
         "showlegend": true,
         "type": "scatter",
         "x": [
          "Friday",
          "Monday",
          "Saturday",
          "Sunday",
          "Thursday",
          "Tuesday",
          "Wednesday"
         ],
         "xaxis": "x",
         "y": [
          20.900547146526975,
          22.63980967923777,
          24.102410979384256,
          25.50953456520172,
          19.366726743596345,
          20.17693013751542,
          19.825885818106148
         ],
         "yaxis": "y"
        },
        {
         "hovertemplate": "member_casual=member<br>day=%{x}<br>ride_length_min=%{y}<extra></extra>",
         "legendgroup": "member",
         "line": {
          "color": "#EF553B",
          "dash": "solid"
         },
         "marker": {
          "symbol": "circle"
         },
         "mode": "lines",
         "name": "member",
         "orientation": "v",
         "showlegend": true,
         "type": "scatter",
         "x": [
          "Friday",
          "Monday",
          "Saturday",
          "Sunday",
          "Thursday",
          "Tuesday",
          "Wednesday"
         ],
         "xaxis": "x",
         "y": [
          12.05195830181854,
          11.908239910753242,
          13.786863409495556,
          14.095504987236456,
          11.56812721188338,
          11.546944116650504,
          11.714864623542178
         ],
         "yaxis": "y"
        }
       ],
       "layout": {
        "legend": {
         "title": {
          "text": "member_casual"
         },
         "tracegroupgap": 0
        },
        "margin": {
         "t": 60
        },
        "template": {
         "data": {
          "bar": [
           {
            "error_x": {
             "color": "#2a3f5f"
            },
            "error_y": {
             "color": "#2a3f5f"
            },
            "marker": {
             "line": {
              "color": "#E5ECF6",
              "width": 0.5
             },
             "pattern": {
              "fillmode": "overlay",
              "size": 10,
              "solidity": 0.2
             }
            },
            "type": "bar"
           }
          ],
          "barpolar": [
           {
            "marker": {
             "line": {
              "color": "#E5ECF6",
              "width": 0.5
             },
             "pattern": {
              "fillmode": "overlay",
              "size": 10,
              "solidity": 0.2
             }
            },
            "type": "barpolar"
           }
          ],
          "carpet": [
           {
            "aaxis": {
             "endlinecolor": "#2a3f5f",
             "gridcolor": "white",
             "linecolor": "white",
             "minorgridcolor": "white",
             "startlinecolor": "#2a3f5f"
            },
            "baxis": {
             "endlinecolor": "#2a3f5f",
             "gridcolor": "white",
             "linecolor": "white",
             "minorgridcolor": "white",
             "startlinecolor": "#2a3f5f"
            },
            "type": "carpet"
           }
          ],
          "choropleth": [
           {
            "colorbar": {
             "outlinewidth": 0,
             "ticks": ""
            },
            "type": "choropleth"
           }
          ],
          "contour": [
           {
            "colorbar": {
             "outlinewidth": 0,
             "ticks": ""
            },
            "colorscale": [
             [
              0,
              "#0d0887"
             ],
             [
              0.1111111111111111,
              "#46039f"
             ],
             [
              0.2222222222222222,
              "#7201a8"
             ],
             [
              0.3333333333333333,
              "#9c179e"
             ],
             [
              0.4444444444444444,
              "#bd3786"
             ],
             [
              0.5555555555555556,
              "#d8576b"
             ],
             [
              0.6666666666666666,
              "#ed7953"
             ],
             [
              0.7777777777777778,
              "#fb9f3a"
             ],
             [
              0.8888888888888888,
              "#fdca26"
             ],
             [
              1,
              "#f0f921"
             ]
            ],
            "type": "contour"
           }
          ],
          "contourcarpet": [
           {
            "colorbar": {
             "outlinewidth": 0,
             "ticks": ""
            },
            "type": "contourcarpet"
           }
          ],
          "heatmap": [
           {
            "colorbar": {
             "outlinewidth": 0,
             "ticks": ""
            },
            "colorscale": [
             [
              0,
              "#0d0887"
             ],
             [
              0.1111111111111111,
              "#46039f"
             ],
             [
              0.2222222222222222,
              "#7201a8"
             ],
             [
              0.3333333333333333,
              "#9c179e"
             ],
             [
              0.4444444444444444,
              "#bd3786"
             ],
             [
              0.5555555555555556,
              "#d8576b"
             ],
             [
              0.6666666666666666,
              "#ed7953"
             ],
             [
              0.7777777777777778,
              "#fb9f3a"
             ],
             [
              0.8888888888888888,
              "#fdca26"
             ],
             [
              1,
              "#f0f921"
             ]
            ],
            "type": "heatmap"
           }
          ],
          "heatmapgl": [
           {
            "colorbar": {
             "outlinewidth": 0,
             "ticks": ""
            },
            "colorscale": [
             [
              0,
              "#0d0887"
             ],
             [
              0.1111111111111111,
              "#46039f"
             ],
             [
              0.2222222222222222,
              "#7201a8"
             ],
             [
              0.3333333333333333,
              "#9c179e"
             ],
             [
              0.4444444444444444,
              "#bd3786"
             ],
             [
              0.5555555555555556,
              "#d8576b"
             ],
             [
              0.6666666666666666,
              "#ed7953"
             ],
             [
              0.7777777777777778,
              "#fb9f3a"
             ],
             [
              0.8888888888888888,
              "#fdca26"
             ],
             [
              1,
              "#f0f921"
             ]
            ],
            "type": "heatmapgl"
           }
          ],
          "histogram": [
           {
            "marker": {
             "pattern": {
              "fillmode": "overlay",
              "size": 10,
              "solidity": 0.2
             }
            },
            "type": "histogram"
           }
          ],
          "histogram2d": [
           {
            "colorbar": {
             "outlinewidth": 0,
             "ticks": ""
            },
            "colorscale": [
             [
              0,
              "#0d0887"
             ],
             [
              0.1111111111111111,
              "#46039f"
             ],
             [
              0.2222222222222222,
              "#7201a8"
             ],
             [
              0.3333333333333333,
              "#9c179e"
             ],
             [
              0.4444444444444444,
              "#bd3786"
             ],
             [
              0.5555555555555556,
              "#d8576b"
             ],
             [
              0.6666666666666666,
              "#ed7953"
             ],
             [
              0.7777777777777778,
              "#fb9f3a"
             ],
             [
              0.8888888888888888,
              "#fdca26"
             ],
             [
              1,
              "#f0f921"
             ]
            ],
            "type": "histogram2d"
           }
          ],
          "histogram2dcontour": [
           {
            "colorbar": {
             "outlinewidth": 0,
             "ticks": ""
            },
            "colorscale": [
             [
              0,
              "#0d0887"
             ],
             [
              0.1111111111111111,
              "#46039f"
             ],
             [
              0.2222222222222222,
              "#7201a8"
             ],
             [
              0.3333333333333333,
              "#9c179e"
             ],
             [
              0.4444444444444444,
              "#bd3786"
             ],
             [
              0.5555555555555556,
              "#d8576b"
             ],
             [
              0.6666666666666666,
              "#ed7953"
             ],
             [
              0.7777777777777778,
              "#fb9f3a"
             ],
             [
              0.8888888888888888,
              "#fdca26"
             ],
             [
              1,
              "#f0f921"
             ]
            ],
            "type": "histogram2dcontour"
           }
          ],
          "mesh3d": [
           {
            "colorbar": {
             "outlinewidth": 0,
             "ticks": ""
            },
            "type": "mesh3d"
           }
          ],
          "parcoords": [
           {
            "line": {
             "colorbar": {
              "outlinewidth": 0,
              "ticks": ""
             }
            },
            "type": "parcoords"
           }
          ],
          "pie": [
           {
            "automargin": true,
            "type": "pie"
           }
          ],
          "scatter": [
           {
            "fillpattern": {
             "fillmode": "overlay",
             "size": 10,
             "solidity": 0.2
            },
            "type": "scatter"
           }
          ],
          "scatter3d": [
           {
            "line": {
             "colorbar": {
              "outlinewidth": 0,
              "ticks": ""
             }
            },
            "marker": {
             "colorbar": {
              "outlinewidth": 0,
              "ticks": ""
             }
            },
            "type": "scatter3d"
           }
          ],
          "scattercarpet": [
           {
            "marker": {
             "colorbar": {
              "outlinewidth": 0,
              "ticks": ""
             }
            },
            "type": "scattercarpet"
           }
          ],
          "scattergeo": [
           {
            "marker": {
             "colorbar": {
              "outlinewidth": 0,
              "ticks": ""
             }
            },
            "type": "scattergeo"
           }
          ],
          "scattergl": [
           {
            "marker": {
             "colorbar": {
              "outlinewidth": 0,
              "ticks": ""
             }
            },
            "type": "scattergl"
           }
          ],
          "scattermapbox": [
           {
            "marker": {
             "colorbar": {
              "outlinewidth": 0,
              "ticks": ""
             }
            },
            "type": "scattermapbox"
           }
          ],
          "scatterpolar": [
           {
            "marker": {
             "colorbar": {
              "outlinewidth": 0,
              "ticks": ""
             }
            },
            "type": "scatterpolar"
           }
          ],
          "scatterpolargl": [
           {
            "marker": {
             "colorbar": {
              "outlinewidth": 0,
              "ticks": ""
             }
            },
            "type": "scatterpolargl"
           }
          ],
          "scatterternary": [
           {
            "marker": {
             "colorbar": {
              "outlinewidth": 0,
              "ticks": ""
             }
            },
            "type": "scatterternary"
           }
          ],
          "surface": [
           {
            "colorbar": {
             "outlinewidth": 0,
             "ticks": ""
            },
            "colorscale": [
             [
              0,
              "#0d0887"
             ],
             [
              0.1111111111111111,
              "#46039f"
             ],
             [
              0.2222222222222222,
              "#7201a8"
             ],
             [
              0.3333333333333333,
              "#9c179e"
             ],
             [
              0.4444444444444444,
              "#bd3786"
             ],
             [
              0.5555555555555556,
              "#d8576b"
             ],
             [
              0.6666666666666666,
              "#ed7953"
             ],
             [
              0.7777777777777778,
              "#fb9f3a"
             ],
             [
              0.8888888888888888,
              "#fdca26"
             ],
             [
              1,
              "#f0f921"
             ]
            ],
            "type": "surface"
           }
          ],
          "table": [
           {
            "cells": {
             "fill": {
              "color": "#EBF0F8"
             },
             "line": {
              "color": "white"
             }
            },
            "header": {
             "fill": {
              "color": "#C8D4E3"
             },
             "line": {
              "color": "white"
             }
            },
            "type": "table"
           }
          ]
         },
         "layout": {
          "annotationdefaults": {
           "arrowcolor": "#2a3f5f",
           "arrowhead": 0,
           "arrowwidth": 1
          },
          "autotypenumbers": "strict",
          "coloraxis": {
           "colorbar": {
            "outlinewidth": 0,
            "ticks": ""
           }
          },
          "colorscale": {
           "diverging": [
            [
             0,
             "#8e0152"
            ],
            [
             0.1,
             "#c51b7d"
            ],
            [
             0.2,
             "#de77ae"
            ],
            [
             0.3,
             "#f1b6da"
            ],
            [
             0.4,
             "#fde0ef"
            ],
            [
             0.5,
             "#f7f7f7"
            ],
            [
             0.6,
             "#e6f5d0"
            ],
            [
             0.7,
             "#b8e186"
            ],
            [
             0.8,
             "#7fbc41"
            ],
            [
             0.9,
             "#4d9221"
            ],
            [
             1,
             "#276419"
            ]
           ],
           "sequential": [
            [
             0,
             "#0d0887"
            ],
            [
             0.1111111111111111,
             "#46039f"
            ],
            [
             0.2222222222222222,
             "#7201a8"
            ],
            [
             0.3333333333333333,
             "#9c179e"
            ],
            [
             0.4444444444444444,
             "#bd3786"
            ],
            [
             0.5555555555555556,
             "#d8576b"
            ],
            [
             0.6666666666666666,
             "#ed7953"
            ],
            [
             0.7777777777777778,
             "#fb9f3a"
            ],
            [
             0.8888888888888888,
             "#fdca26"
            ],
            [
             1,
             "#f0f921"
            ]
           ],
           "sequentialminus": [
            [
             0,
             "#0d0887"
            ],
            [
             0.1111111111111111,
             "#46039f"
            ],
            [
             0.2222222222222222,
             "#7201a8"
            ],
            [
             0.3333333333333333,
             "#9c179e"
            ],
            [
             0.4444444444444444,
             "#bd3786"
            ],
            [
             0.5555555555555556,
             "#d8576b"
            ],
            [
             0.6666666666666666,
             "#ed7953"
            ],
            [
             0.7777777777777778,
             "#fb9f3a"
            ],
            [
             0.8888888888888888,
             "#fdca26"
            ],
            [
             1,
             "#f0f921"
            ]
           ]
          },
          "colorway": [
           "#636efa",
           "#EF553B",
           "#00cc96",
           "#ab63fa",
           "#FFA15A",
           "#19d3f3",
           "#FF6692",
           "#B6E880",
           "#FF97FF",
           "#FECB52"
          ],
          "font": {
           "color": "#2a3f5f"
          },
          "geo": {
           "bgcolor": "white",
           "lakecolor": "white",
           "landcolor": "#E5ECF6",
           "showlakes": true,
           "showland": true,
           "subunitcolor": "white"
          },
          "hoverlabel": {
           "align": "left"
          },
          "hovermode": "closest",
          "mapbox": {
           "style": "light"
          },
          "paper_bgcolor": "white",
          "plot_bgcolor": "#E5ECF6",
          "polar": {
           "angularaxis": {
            "gridcolor": "white",
            "linecolor": "white",
            "ticks": ""
           },
           "bgcolor": "#E5ECF6",
           "radialaxis": {
            "gridcolor": "white",
            "linecolor": "white",
            "ticks": ""
           }
          },
          "scene": {
           "xaxis": {
            "backgroundcolor": "#E5ECF6",
            "gridcolor": "white",
            "gridwidth": 2,
            "linecolor": "white",
            "showbackground": true,
            "ticks": "",
            "zerolinecolor": "white"
           },
           "yaxis": {
            "backgroundcolor": "#E5ECF6",
            "gridcolor": "white",
            "gridwidth": 2,
            "linecolor": "white",
            "showbackground": true,
            "ticks": "",
            "zerolinecolor": "white"
           },
           "zaxis": {
            "backgroundcolor": "#E5ECF6",
            "gridcolor": "white",
            "gridwidth": 2,
            "linecolor": "white",
            "showbackground": true,
            "ticks": "",
            "zerolinecolor": "white"
           }
          },
          "shapedefaults": {
           "line": {
            "color": "#2a3f5f"
           }
          },
          "ternary": {
           "aaxis": {
            "gridcolor": "white",
            "linecolor": "white",
            "ticks": ""
           },
           "baxis": {
            "gridcolor": "white",
            "linecolor": "white",
            "ticks": ""
           },
           "bgcolor": "#E5ECF6",
           "caxis": {
            "gridcolor": "white",
            "linecolor": "white",
            "ticks": ""
           }
          },
          "title": {
           "x": 0.05
          },
          "xaxis": {
           "automargin": true,
           "gridcolor": "white",
           "linecolor": "white",
           "ticks": "",
           "title": {
            "standoff": 15
           },
           "zerolinecolor": "white",
           "zerolinewidth": 2
          },
          "yaxis": {
           "automargin": true,
           "gridcolor": "white",
           "linecolor": "white",
           "ticks": "",
           "title": {
            "standoff": 15
           },
           "zerolinecolor": "white",
           "zerolinewidth": 2
          }
         }
        },
        "xaxis": {
         "anchor": "y",
         "domain": [
          0,
          1
         ],
         "title": {
          "text": "day"
         }
        },
        "yaxis": {
         "anchor": "x",
         "domain": [
          0,
          1
         ],
         "title": {
          "text": "ride_length_min"
         }
        }
       }
      },
      "text/html": [
       "<div>                            <div id=\"8a41ac58-7e01-40fd-9b90-2c0d3fcd4ea2\" class=\"plotly-graph-div\" style=\"height:525px; width:100%;\"></div>            <script type=\"text/javascript\">                require([\"plotly\"], function(Plotly) {                    window.PLOTLYENV=window.PLOTLYENV || {};                                    if (document.getElementById(\"8a41ac58-7e01-40fd-9b90-2c0d3fcd4ea2\")) {                    Plotly.newPlot(                        \"8a41ac58-7e01-40fd-9b90-2c0d3fcd4ea2\",                        [{\"hovertemplate\":\"member_casual=casual<br>day=%{x}<br>ride_length_min=%{y}<extra></extra>\",\"legendgroup\":\"casual\",\"line\":{\"color\":\"#636efa\",\"dash\":\"solid\"},\"marker\":{\"symbol\":\"circle\"},\"mode\":\"lines\",\"name\":\"casual\",\"orientation\":\"v\",\"showlegend\":true,\"x\":[\"Friday\",\"Monday\",\"Saturday\",\"Sunday\",\"Thursday\",\"Tuesday\",\"Wednesday\"],\"xaxis\":\"x\",\"y\":[20.900547146526975,22.63980967923777,24.102410979384256,25.50953456520172,19.366726743596345,20.17693013751542,19.825885818106148],\"yaxis\":\"y\",\"type\":\"scatter\"},{\"hovertemplate\":\"member_casual=member<br>day=%{x}<br>ride_length_min=%{y}<extra></extra>\",\"legendgroup\":\"member\",\"line\":{\"color\":\"#EF553B\",\"dash\":\"solid\"},\"marker\":{\"symbol\":\"circle\"},\"mode\":\"lines\",\"name\":\"member\",\"orientation\":\"v\",\"showlegend\":true,\"x\":[\"Friday\",\"Monday\",\"Saturday\",\"Sunday\",\"Thursday\",\"Tuesday\",\"Wednesday\"],\"xaxis\":\"x\",\"y\":[12.05195830181854,11.908239910753242,13.786863409495556,14.095504987236456,11.56812721188338,11.546944116650504,11.714864623542178],\"yaxis\":\"y\",\"type\":\"scatter\"}],                        {\"template\":{\"data\":{\"histogram2dcontour\":[{\"type\":\"histogram2dcontour\",\"colorbar\":{\"outlinewidth\":0,\"ticks\":\"\"},\"colorscale\":[[0.0,\"#0d0887\"],[0.1111111111111111,\"#46039f\"],[0.2222222222222222,\"#7201a8\"],[0.3333333333333333,\"#9c179e\"],[0.4444444444444444,\"#bd3786\"],[0.5555555555555556,\"#d8576b\"],[0.6666666666666666,\"#ed7953\"],[0.7777777777777778,\"#fb9f3a\"],[0.8888888888888888,\"#fdca26\"],[1.0,\"#f0f921\"]]}],\"choropleth\":[{\"type\":\"choropleth\",\"colorbar\":{\"outlinewidth\":0,\"ticks\":\"\"}}],\"histogram2d\":[{\"type\":\"histogram2d\",\"colorbar\":{\"outlinewidth\":0,\"ticks\":\"\"},\"colorscale\":[[0.0,\"#0d0887\"],[0.1111111111111111,\"#46039f\"],[0.2222222222222222,\"#7201a8\"],[0.3333333333333333,\"#9c179e\"],[0.4444444444444444,\"#bd3786\"],[0.5555555555555556,\"#d8576b\"],[0.6666666666666666,\"#ed7953\"],[0.7777777777777778,\"#fb9f3a\"],[0.8888888888888888,\"#fdca26\"],[1.0,\"#f0f921\"]]}],\"heatmap\":[{\"type\":\"heatmap\",\"colorbar\":{\"outlinewidth\":0,\"ticks\":\"\"},\"colorscale\":[[0.0,\"#0d0887\"],[0.1111111111111111,\"#46039f\"],[0.2222222222222222,\"#7201a8\"],[0.3333333333333333,\"#9c179e\"],[0.4444444444444444,\"#bd3786\"],[0.5555555555555556,\"#d8576b\"],[0.6666666666666666,\"#ed7953\"],[0.7777777777777778,\"#fb9f3a\"],[0.8888888888888888,\"#fdca26\"],[1.0,\"#f0f921\"]]}],\"heatmapgl\":[{\"type\":\"heatmapgl\",\"colorbar\":{\"outlinewidth\":0,\"ticks\":\"\"},\"colorscale\":[[0.0,\"#0d0887\"],[0.1111111111111111,\"#46039f\"],[0.2222222222222222,\"#7201a8\"],[0.3333333333333333,\"#9c179e\"],[0.4444444444444444,\"#bd3786\"],[0.5555555555555556,\"#d8576b\"],[0.6666666666666666,\"#ed7953\"],[0.7777777777777778,\"#fb9f3a\"],[0.8888888888888888,\"#fdca26\"],[1.0,\"#f0f921\"]]}],\"contourcarpet\":[{\"type\":\"contourcarpet\",\"colorbar\":{\"outlinewidth\":0,\"ticks\":\"\"}}],\"contour\":[{\"type\":\"contour\",\"colorbar\":{\"outlinewidth\":0,\"ticks\":\"\"},\"colorscale\":[[0.0,\"#0d0887\"],[0.1111111111111111,\"#46039f\"],[0.2222222222222222,\"#7201a8\"],[0.3333333333333333,\"#9c179e\"],[0.4444444444444444,\"#bd3786\"],[0.5555555555555556,\"#d8576b\"],[0.6666666666666666,\"#ed7953\"],[0.7777777777777778,\"#fb9f3a\"],[0.8888888888888888,\"#fdca26\"],[1.0,\"#f0f921\"]]}],\"surface\":[{\"type\":\"surface\",\"colorbar\":{\"outlinewidth\":0,\"ticks\":\"\"},\"colorscale\":[[0.0,\"#0d0887\"],[0.1111111111111111,\"#46039f\"],[0.2222222222222222,\"#7201a8\"],[0.3333333333333333,\"#9c179e\"],[0.4444444444444444,\"#bd3786\"],[0.5555555555555556,\"#d8576b\"],[0.6666666666666666,\"#ed7953\"],[0.7777777777777778,\"#fb9f3a\"],[0.8888888888888888,\"#fdca26\"],[1.0,\"#f0f921\"]]}],\"mesh3d\":[{\"type\":\"mesh3d\",\"colorbar\":{\"outlinewidth\":0,\"ticks\":\"\"}}],\"scatter\":[{\"fillpattern\":{\"fillmode\":\"overlay\",\"size\":10,\"solidity\":0.2},\"type\":\"scatter\"}],\"parcoords\":[{\"type\":\"parcoords\",\"line\":{\"colorbar\":{\"outlinewidth\":0,\"ticks\":\"\"}}}],\"scatterpolargl\":[{\"type\":\"scatterpolargl\",\"marker\":{\"colorbar\":{\"outlinewidth\":0,\"ticks\":\"\"}}}],\"bar\":[{\"error_x\":{\"color\":\"#2a3f5f\"},\"error_y\":{\"color\":\"#2a3f5f\"},\"marker\":{\"line\":{\"color\":\"#E5ECF6\",\"width\":0.5},\"pattern\":{\"fillmode\":\"overlay\",\"size\":10,\"solidity\":0.2}},\"type\":\"bar\"}],\"scattergeo\":[{\"type\":\"scattergeo\",\"marker\":{\"colorbar\":{\"outlinewidth\":0,\"ticks\":\"\"}}}],\"scatterpolar\":[{\"type\":\"scatterpolar\",\"marker\":{\"colorbar\":{\"outlinewidth\":0,\"ticks\":\"\"}}}],\"histogram\":[{\"marker\":{\"pattern\":{\"fillmode\":\"overlay\",\"size\":10,\"solidity\":0.2}},\"type\":\"histogram\"}],\"scattergl\":[{\"type\":\"scattergl\",\"marker\":{\"colorbar\":{\"outlinewidth\":0,\"ticks\":\"\"}}}],\"scatter3d\":[{\"type\":\"scatter3d\",\"line\":{\"colorbar\":{\"outlinewidth\":0,\"ticks\":\"\"}},\"marker\":{\"colorbar\":{\"outlinewidth\":0,\"ticks\":\"\"}}}],\"scattermapbox\":[{\"type\":\"scattermapbox\",\"marker\":{\"colorbar\":{\"outlinewidth\":0,\"ticks\":\"\"}}}],\"scatterternary\":[{\"type\":\"scatterternary\",\"marker\":{\"colorbar\":{\"outlinewidth\":0,\"ticks\":\"\"}}}],\"scattercarpet\":[{\"type\":\"scattercarpet\",\"marker\":{\"colorbar\":{\"outlinewidth\":0,\"ticks\":\"\"}}}],\"carpet\":[{\"aaxis\":{\"endlinecolor\":\"#2a3f5f\",\"gridcolor\":\"white\",\"linecolor\":\"white\",\"minorgridcolor\":\"white\",\"startlinecolor\":\"#2a3f5f\"},\"baxis\":{\"endlinecolor\":\"#2a3f5f\",\"gridcolor\":\"white\",\"linecolor\":\"white\",\"minorgridcolor\":\"white\",\"startlinecolor\":\"#2a3f5f\"},\"type\":\"carpet\"}],\"table\":[{\"cells\":{\"fill\":{\"color\":\"#EBF0F8\"},\"line\":{\"color\":\"white\"}},\"header\":{\"fill\":{\"color\":\"#C8D4E3\"},\"line\":{\"color\":\"white\"}},\"type\":\"table\"}],\"barpolar\":[{\"marker\":{\"line\":{\"color\":\"#E5ECF6\",\"width\":0.5},\"pattern\":{\"fillmode\":\"overlay\",\"size\":10,\"solidity\":0.2}},\"type\":\"barpolar\"}],\"pie\":[{\"automargin\":true,\"type\":\"pie\"}]},\"layout\":{\"autotypenumbers\":\"strict\",\"colorway\":[\"#636efa\",\"#EF553B\",\"#00cc96\",\"#ab63fa\",\"#FFA15A\",\"#19d3f3\",\"#FF6692\",\"#B6E880\",\"#FF97FF\",\"#FECB52\"],\"font\":{\"color\":\"#2a3f5f\"},\"hovermode\":\"closest\",\"hoverlabel\":{\"align\":\"left\"},\"paper_bgcolor\":\"white\",\"plot_bgcolor\":\"#E5ECF6\",\"polar\":{\"bgcolor\":\"#E5ECF6\",\"angularaxis\":{\"gridcolor\":\"white\",\"linecolor\":\"white\",\"ticks\":\"\"},\"radialaxis\":{\"gridcolor\":\"white\",\"linecolor\":\"white\",\"ticks\":\"\"}},\"ternary\":{\"bgcolor\":\"#E5ECF6\",\"aaxis\":{\"gridcolor\":\"white\",\"linecolor\":\"white\",\"ticks\":\"\"},\"baxis\":{\"gridcolor\":\"white\",\"linecolor\":\"white\",\"ticks\":\"\"},\"caxis\":{\"gridcolor\":\"white\",\"linecolor\":\"white\",\"ticks\":\"\"}},\"coloraxis\":{\"colorbar\":{\"outlinewidth\":0,\"ticks\":\"\"}},\"colorscale\":{\"sequential\":[[0.0,\"#0d0887\"],[0.1111111111111111,\"#46039f\"],[0.2222222222222222,\"#7201a8\"],[0.3333333333333333,\"#9c179e\"],[0.4444444444444444,\"#bd3786\"],[0.5555555555555556,\"#d8576b\"],[0.6666666666666666,\"#ed7953\"],[0.7777777777777778,\"#fb9f3a\"],[0.8888888888888888,\"#fdca26\"],[1.0,\"#f0f921\"]],\"sequentialminus\":[[0.0,\"#0d0887\"],[0.1111111111111111,\"#46039f\"],[0.2222222222222222,\"#7201a8\"],[0.3333333333333333,\"#9c179e\"],[0.4444444444444444,\"#bd3786\"],[0.5555555555555556,\"#d8576b\"],[0.6666666666666666,\"#ed7953\"],[0.7777777777777778,\"#fb9f3a\"],[0.8888888888888888,\"#fdca26\"],[1.0,\"#f0f921\"]],\"diverging\":[[0,\"#8e0152\"],[0.1,\"#c51b7d\"],[0.2,\"#de77ae\"],[0.3,\"#f1b6da\"],[0.4,\"#fde0ef\"],[0.5,\"#f7f7f7\"],[0.6,\"#e6f5d0\"],[0.7,\"#b8e186\"],[0.8,\"#7fbc41\"],[0.9,\"#4d9221\"],[1,\"#276419\"]]},\"xaxis\":{\"gridcolor\":\"white\",\"linecolor\":\"white\",\"ticks\":\"\",\"title\":{\"standoff\":15},\"zerolinecolor\":\"white\",\"automargin\":true,\"zerolinewidth\":2},\"yaxis\":{\"gridcolor\":\"white\",\"linecolor\":\"white\",\"ticks\":\"\",\"title\":{\"standoff\":15},\"zerolinecolor\":\"white\",\"automargin\":true,\"zerolinewidth\":2},\"scene\":{\"xaxis\":{\"backgroundcolor\":\"#E5ECF6\",\"gridcolor\":\"white\",\"linecolor\":\"white\",\"showbackground\":true,\"ticks\":\"\",\"zerolinecolor\":\"white\",\"gridwidth\":2},\"yaxis\":{\"backgroundcolor\":\"#E5ECF6\",\"gridcolor\":\"white\",\"linecolor\":\"white\",\"showbackground\":true,\"ticks\":\"\",\"zerolinecolor\":\"white\",\"gridwidth\":2},\"zaxis\":{\"backgroundcolor\":\"#E5ECF6\",\"gridcolor\":\"white\",\"linecolor\":\"white\",\"showbackground\":true,\"ticks\":\"\",\"zerolinecolor\":\"white\",\"gridwidth\":2}},\"shapedefaults\":{\"line\":{\"color\":\"#2a3f5f\"}},\"annotationdefaults\":{\"arrowcolor\":\"#2a3f5f\",\"arrowhead\":0,\"arrowwidth\":1},\"geo\":{\"bgcolor\":\"white\",\"landcolor\":\"#E5ECF6\",\"subunitcolor\":\"white\",\"showland\":true,\"showlakes\":true,\"lakecolor\":\"white\"},\"title\":{\"x\":0.05},\"mapbox\":{\"style\":\"light\"}}},\"xaxis\":{\"anchor\":\"y\",\"domain\":[0.0,1.0],\"title\":{\"text\":\"day\"}},\"yaxis\":{\"anchor\":\"x\",\"domain\":[0.0,1.0],\"title\":{\"text\":\"ride_length_min\"}},\"legend\":{\"title\":{\"text\":\"member_casual\"},\"tracegroupgap\":0},\"margin\":{\"t\":60}},                        {\"responsive\": true}                    ).then(function(){\n",
       "                            \n",
       "var gd = document.getElementById('8a41ac58-7e01-40fd-9b90-2c0d3fcd4ea2');\n",
       "var x = new MutationObserver(function (mutations, observer) {{\n",
       "        var display = window.getComputedStyle(gd).display;\n",
       "        if (!display || display === 'none') {{\n",
       "            console.log([gd, 'removed!']);\n",
       "            Plotly.purge(gd);\n",
       "            observer.disconnect();\n",
       "        }}\n",
       "}});\n",
       "\n",
       "// Listen for the removal of the full notebook cells\n",
       "var notebookContainer = gd.closest('#notebook-container');\n",
       "if (notebookContainer) {{\n",
       "    x.observe(notebookContainer, {childList: true});\n",
       "}}\n",
       "\n",
       "// Listen for the clearing of the current output cell\n",
       "var outputEl = gd.closest('.output');\n",
       "if (outputEl) {{\n",
       "    x.observe(outputEl, {childList: true});\n",
       "}}\n",
       "\n",
       "                        })                };                });            </script>        </div>"
      ]
     },
     "metadata": {},
     "output_type": "display_data"
    }
   ],
   "source": [
    "\n",
    "\n",
    "day_grp = df_99.groupby(['member_casual','day']).mean(numeric_only=True).reset_index()\n",
    "day_line=px.line(data_frame=day_grp,x='day',y='ride_length_min',color='member_casual')\n",
    "\n",
    "\n",
    "day_line.show()"
   ]
  },
  {
   "cell_type": "markdown",
   "id": "65ff8472",
   "metadata": {},
   "source": [
    "We can see that the casual users average ride length fall during weekdays and rise during the weekends."
   ]
  },
  {
   "cell_type": "markdown",
   "id": "2bc4ed36",
   "metadata": {},
   "source": [
    "Percentage of member and casual users"
   ]
  },
  {
   "cell_type": "markdown",
   "id": "37ba946f",
   "metadata": {},
   "source": [
    "What is the proportion of member and casual users from the total?"
   ]
  },
  {
   "cell_type": "code",
   "execution_count": 129,
   "id": "c8394713",
   "metadata": {
    "ExecuteTime": {
     "end_time": "2024-07-18T18:26:27.638697Z",
     "start_time": "2024-07-18T18:26:24.122100Z"
    }
   },
   "outputs": [
    {
     "data": {
      "image/png": "[encoded data removed]",
      "text/plain": [
       "<Figure size 640x480 with 1 Axes>"
      ]
     },
     "metadata": {},
     "output_type": "display_data"
    }
   ],
   "source": [
    "users = df['member_casual']\n",
    "\n",
    "plt.pie(users.value_counts(),labels=users.unique(),colors=[blue,green],autopct=\"%1.1f%%\")\n",
    "\n",
    "plt.title('Number of users per user type')\n",
    "plt.tight_layout()\n",
    "plt.show()\n"
   ]
  },
  {
   "cell_type": "markdown",
   "id": "bef5a02b",
   "metadata": {},
   "source": [
    "Number of rides per user type"
   ]
  },
  {
   "cell_type": "markdown",
   "id": "b43f0ca1",
   "metadata": {},
   "source": [
    "How many rides each type of user did? and for every type of rideable?"
   ]
  },
  {
   "cell_type": "code",
   "execution_count": 130,
   "id": "242cd3f7",
   "metadata": {
    "ExecuteTime": {
     "end_time": "2024-07-18T18:28:10.501928Z",
     "start_time": "2024-07-18T18:28:03.314544Z"
    }
   },
   "outputs": [
    {
     "data": {
      "image/png": "[encoded data removed]",
      "text/plain": [
       "<Figure size 640x480 with 1 Axes>"
      ]
     },
     "metadata": {},
     "output_type": "display_data"
    }
   ],
   "source": [
    "ride_user_grp = df.groupby(['member_casual','rideable_type'])['ride_id'].count().reset_index(name='count')\n",
    "\n",
    "ax = sns.barplot(data=ride_user_grp,x='rideable_type',y='count',hue='member_casual',palette=[green,blue],hue_order=['casual','member'])\n",
    "                \n",
    "plt.ylabel('Number of rides (millions)')\n",
    "\n",
    "plt.legend()\n",
    "plt.title('Number of rides per user type and rideable type')\n",
    "plt.tight_layout()\n",
    "\n",
    "plt.show()"
   ]
  },
  {
   "cell_type": "markdown",
   "id": "68b9517d",
   "metadata": {},
   "source": [
    "We can see that the members ride more often than casual members in both classic and electric bikes, and we also see a lack of usage of the docked bikes by members"
   ]
  },
  {
   "cell_type": "markdown",
   "id": "74d0c2db",
   "metadata": {},
   "source": [
    "Number of rides per month"
   ]
  },
  {
   "cell_type": "markdown",
   "id": "8f508b9d",
   "metadata": {},
   "source": [
    "What are the tendencies in the number of rides each type of user did each month?"
   ]
  },
  {
   "cell_type": "code",
   "execution_count": 131,
   "id": "08090d57",
   "metadata": {
    "ExecuteTime": {
     "end_time": "2024-07-18T18:30:44.045250Z",
     "start_time": "2024-07-18T18:30:31.090304Z"
    }
   },
   "outputs": [
    {
     "data": {
      "image/png": "[encoded data removed]",
      "text/plain": [
       "<Figure size 900x600 with 1 Axes>"
      ]
     },
     "metadata": {},
     "output_type": "display_data"
    }
   ],
   "source": [
    "months = ['','January','Febraury','March','April','May','June','July','August','September','October','November','December']\n",
    "\n",
    "fig, ax =plt.subplots(1,1,figsize=(9,6))\n",
    "\n",
    "df['month'].value_counts().sort_index().plot(kind='area', label='all users',color=gray,alpha=1)\n",
    "df.query('member_casual == \"casual\"')['month'].value_counts().sort_index().plot(kind='area', label='casual user',color=green,alpha=1)\n",
    "df.query('member_casual == \"member\"')['month'].value_counts().sort_index().plot(kind='area', label='member user',color=blue,alpha=0.7)\n",
    "\n",
    "ax.set_xticks(range(len(months)))\n",
    "ax.set_xticklabels(months)\n",
    "\n",
    "plt.xlim([1,12])\n",
    "plt.xticks(rotation=20)\n",
    "plt.legend()\n",
    "plt.xlabel('Month')\n",
    "plt.ylabel('Number of rides')\n",
    "plt.tight_layout()\n",
    "plt.show()"
   ]
  },
  {
   "cell_type": "markdown",
   "id": "ea32d3a4",
   "metadata": {},
   "source": [
    "For all type of users, we see the rise in spring months, the spike during the summer months. And the fall entering autumn and the bottom at winter."
   ]
  },
  {
   "cell_type": "markdown",
   "id": "f49dce0a",
   "metadata": {},
   "source": [
    "But we also see that the members tend to maintain the number of rides for the summer and autumn seasons. And on the contrary, the casual users take the lead in the mid-summer and then the number of rides fall faster than those for members."
   ]
  },
  {
   "cell_type": "markdown",
   "id": "2bae990a",
   "metadata": {},
   "source": [
    "6.- Act\n",
    "Conclusion\n",
    "With these findings we can give some insights and answer the question to the core business task: Indentify the differences between \"Casual\" and \"Member\" users.\n",
    "\n",
    "Casual users ride on average longer than member users, but member users ride length doesn't fluctuate as much during the week.\n",
    "Member users ride more often than casual riders, except on weekends and during the peak of the summer.\n",
    "Member users follow predictable paths from and to the city center, whereas Casual users ride closer to leisure areas and follow less predictable paths.\n",
    "Without more information about the users, like age, job, or gender, we can only infer by the data provided.\n",
    "\n",
    "Suggestion"
   ]
  },
  {
   "cell_type": "code",
   "execution_count": null,
   "id": "6327a1f8",
   "metadata": {},
   "outputs": [],
   "source": []
  }
 ],
 "metadata": {
  "kernelspec": {
   "display_name": "Python 3 (ipykernel)",
   "language": "python",
   "name": "python3"
  },
  "language_info": {
   "codemirror_mode": {
    "name": "ipython",
    "version": 3
   },
   "file_extension": ".py",
   "mimetype": "text/x-python",
   "name": "python",
   "nbconvert_exporter": "python",
   "pygments_lexer": "ipython3",
   "version": "3.11.5"
  },
  "toc": {
   "base_numbering": 1,
   "nav_menu": {},
   "number_sections": true,
   "sideBar": true,
   "skip_h1_title": false,
   "title_cell": "Table of Contents",
   "title_sidebar": "Contents",
   "toc_cell": false,
   "toc_position": {},
   "toc_section_display": true,
   "toc_window_display": false
  }
 },
 "nbformat": 4,
 "nbformat_minor": 5
}
